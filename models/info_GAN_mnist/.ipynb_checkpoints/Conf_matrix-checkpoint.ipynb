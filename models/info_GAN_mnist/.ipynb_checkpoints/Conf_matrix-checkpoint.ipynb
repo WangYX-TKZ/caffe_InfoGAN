{
 "cells": [
  {
   "cell_type": "markdown",
   "metadata": {
    "collapsed": true
   },
   "source": [
    "### Confusion matrix visualization  for  WHOI  classification work"
   ]
  },
  {
   "cell_type": "code",
   "execution_count": 4,
   "metadata": {
    "collapsed": true
   },
   "outputs": [],
   "source": [
    "import itertools\n",
    "import numpy as np\n",
    "import matplotlib.pyplot as plt"
   ]
  },
  {
   "cell_type": "code",
   "execution_count": 5,
   "metadata": {
    "collapsed": false,
    "scrolled": false
   },
   "outputs": [
    {
     "data": {
      "text/html": [
       "<div style=\"max-height:1000px;max-width:1500px;overflow:auto;\">\n",
       "<table border=\"1\" class=\"dataframe\">\n",
       "  <thead>\n",
       "    <tr style=\"text-align: right;\">\n",
       "      <th></th>\n",
       "      <th>0</th>\n",
       "      <th>1</th>\n",
       "      <th>2</th>\n",
       "      <th>3</th>\n",
       "      <th>4</th>\n",
       "      <th>5</th>\n",
       "      <th>6</th>\n",
       "      <th>7</th>\n",
       "      <th>8</th>\n",
       "      <th>9</th>\n",
       "    </tr>\n",
       "  </thead>\n",
       "  <tbody>\n",
       "    <tr>\n",
       "      <th>5</th>\n",
       "      <td> 36</td>\n",
       "      <td>  5</td>\n",
       "      <td>   1</td>\n",
       "      <td>  52</td>\n",
       "      <td>  12</td>\n",
       "      <td> 780</td>\n",
       "      <td>   2</td>\n",
       "      <td>   1</td>\n",
       "      <td>   2</td>\n",
       "      <td>   1</td>\n",
       "    </tr>\n",
       "    <tr>\n",
       "      <th>6</th>\n",
       "      <td> 59</td>\n",
       "      <td>  7</td>\n",
       "      <td>   6</td>\n",
       "      <td>   1</td>\n",
       "      <td>  29</td>\n",
       "      <td>  24</td>\n",
       "      <td> 832</td>\n",
       "      <td>   0</td>\n",
       "      <td>   0</td>\n",
       "      <td>   0</td>\n",
       "    </tr>\n",
       "    <tr>\n",
       "      <th>7</th>\n",
       "      <td> 25</td>\n",
       "      <td> 34</td>\n",
       "      <td>  47</td>\n",
       "      <td>  62</td>\n",
       "      <td>  30</td>\n",
       "      <td>   0</td>\n",
       "      <td>   0</td>\n",
       "      <td> 821</td>\n",
       "      <td>   0</td>\n",
       "      <td>   9</td>\n",
       "    </tr>\n",
       "    <tr>\n",
       "      <th>8</th>\n",
       "      <td> 77</td>\n",
       "      <td> 29</td>\n",
       "      <td> 105</td>\n",
       "      <td> 133</td>\n",
       "      <td>  32</td>\n",
       "      <td>  16</td>\n",
       "      <td>   5</td>\n",
       "      <td>   0</td>\n",
       "      <td> 567</td>\n",
       "      <td>  10</td>\n",
       "    </tr>\n",
       "    <tr>\n",
       "      <th>9</th>\n",
       "      <td> 61</td>\n",
       "      <td> 31</td>\n",
       "      <td>   6</td>\n",
       "      <td>  98</td>\n",
       "      <td> 225</td>\n",
       "      <td>   7</td>\n",
       "      <td>   1</td>\n",
       "      <td>  23</td>\n",
       "      <td>   2</td>\n",
       "      <td> 555</td>\n",
       "    </tr>\n",
       "  </tbody>\n",
       "</table>\n",
       "<p>5 rows × 10 columns</p>\n",
       "</div>"
      ],
      "text/plain": [
       "    0   1    2    3    4    5    6    7    8    9\n",
       "5  36   5    1   52   12  780    2    1    2    1\n",
       "6  59   7    6    1   29   24  832    0    0    0\n",
       "7  25  34   47   62   30    0    0  821    0    9\n",
       "8  77  29  105  133   32   16    5    0  567   10\n",
       "9  61  31    6   98  225    7    1   23    2  555\n",
       "\n",
       "[5 rows x 10 columns]"
      ]
     },
     "execution_count": 5,
     "metadata": {},
     "output_type": "execute_result"
    }
   ],
   "source": [
    "import pandas as pd\n",
    "\n",
    "data = pd.io.parsers.read_table(\n",
    "    filepath_or_buffer='/home/magic/END/Experiment_analysis/GAN/mnist/conf_matrix_mnist.txt',\n",
    "    header=None,\n",
    "    )\n",
    "data.dropna(how='any', inplace=True)# how : {‘any’, ‘all’} any : if any NA values are present,drop that label\n",
    "\n",
    "\n",
    "accuracy_data = pd.io.parsers.read_table(\n",
    "    filepath_or_buffer='/home/magic/END/Experiment_analysis/Result/vgg16_paper/accuracy_vgg_finetune_full.txt',\n",
    "    header=None,\n",
    "    )\n",
    "data.tail()\n",
    "#accuracy_data.tail(0)"
   ]
  },
  {
   "cell_type": "code",
   "execution_count": 7,
   "metadata": {
    "collapsed": false
   },
   "outputs": [
    {
     "name": "stdout",
     "output_type": "stream",
     "text": [
      "average accuracy: 2.070000\n",
      "precision: 0.886120\n",
      "recall: 0.860859\n",
      "F1_score:0.856075\n"
     ]
    }
   ],
   "source": [
    "def percent2decimal(x):      # 百分数转换为小数\n",
    "     return float(x.strip('%'))/10\n",
    "accuracy = np.zeros(10)\n",
    "\n",
    "sum = 0\n",
    "for i in range(len(data)):   \n",
    "    accuracy = percent2decimal(accuracy_data[0][i]) \n",
    "    #print accuary\n",
    "    sum += accuracy\n",
    "    #print data[i].sum()\n",
    "print (\"average accuracy: %f\"% float(sum/10))\n",
    "\n",
    "result = np.loadtxt('/home/magic/END/Experiment_analysis/GAN/mnist/conf_matrix_mnist.txt')\n",
    "\n",
    "num = 0\n",
    "sum_precision = 0\n",
    "sum_recall = 0\n",
    "sum_F1_score = 0\n",
    "\n",
    "for i in range(len(data)):\n",
    "    #print data[i].sum()\n",
    "    T_p = data[i][i]\n",
    "    if result[i].sum() == 0:\n",
    "        recall = 0;\n",
    "    else:\n",
    "        recall = float(T_p)/float(result[i].sum())\n",
    "        \n",
    "    sum_recall += recall\n",
    "    \n",
    "    if data[i].sum() == 0 :      \n",
    "        precision = 0\n",
    "    else:   \n",
    "        precision = float(T_p)/float(data[i].sum())        \n",
    "        \n",
    "    sum_precision += precision\n",
    "    \n",
    "    if (recall == 0) or (precision ==0):\n",
    "        F1_score = 0\n",
    "    else:\n",
    "        F1_score = 2*precision*recall/(precision + recall) \n",
    "        #print F1_score\n",
    "    sum_F1_score += F1_score\n",
    "    \n",
    "print('precision: %f' % float(sum_precision/10))\n",
    "print('recall: %f' % float(sum_recall/10)) \n",
    "print( 'F1_score:%f' % float(sum_F1_score/10)) \n",
    "#recall =  sum_recall/103\n",
    "#F1_score =  2*precision*recall/(precision + recall)"
   ]
  },
  {
   "cell_type": "markdown",
   "metadata": {},
   "source": [
    "### visuallization the confusion matrix"
   ]
  },
  {
   "cell_type": "code",
   "execution_count": 9,
   "metadata": {
    "collapsed": false,
    "scrolled": true
   },
   "outputs": [
    {
     "name": "stdout",
     "output_type": "stream",
     "text": [
      "4\n",
      "7\n",
      "8\n",
      "47\n",
      "52\n",
      "54\n",
      "94\n",
      "98\n",
      "100\n",
      "Normalized confusion matrix\n",
      "[[ 0.          0.          0.         ...,  0.          0.          0.        ]\n",
      " [ 0.          0.30985915  0.         ...,  0.          0.          0.        ]\n",
      " [ 0.          0.          0.33333333 ...,  0.          0.          0.        ]\n",
      " ..., \n",
      " [ 0.          0.          0.         ...,  0.          0.          0.        ]\n",
      " [ 0.          0.          0.         ...,  0.          0.81818182  0.        ]\n",
      " [ 0.          0.          0.         ...,  0.          0.          0.2       ]]\n",
      "0.5\n"
     ]
    }
   ],
   "source": [
    "from sklearn.metrics import confusion_matrix \n",
    "\n",
    "\"\"\"\n",
    "This function prints and plots the confusion matrix.\n",
    "Normalization can be applied by setting `normalize=True`.\n",
    "\"\"\"\n",
    "def plot_confusion_matrix(cm, classes,\n",
    "                          normalize=False,\n",
    "                          title='Confusion matrix',\n",
    "                          cmap=plt.cm.jet):    \n",
    "    plt.title(title)\n",
    "    \n",
    "    #tick_marks = np.arange(len(classes))\n",
    "    tick_marks = [0,10,20,30,40,50,60,70,80,90,100]\n",
    "    plt.xticks(tick_marks, tick_marks, rotation=0)\n",
    "    plt.yticks(tick_marks, tick_marks)\n",
    "    \n",
    "    temp = []\n",
    "    zero_ = np.zeros(103) # \n",
    "    if normalize:   \n",
    "        for i in range(len(cm)): # find which raw is zero, \n",
    "            if cm[i].sum() == 0:\n",
    "                print i\n",
    "                temp.append(i)\n",
    "        cm = cm.astype('float') / cm.sum(axis=1)[:, np.newaxis]\n",
    "        for zero_row in temp:\n",
    "            cm[zero_row] = zero_\n",
    "        \n",
    "        print(\"Normalized confusion matrix\")\n",
    "    else:\n",
    "        print('Confusion matrix, without normalization')\n",
    "\n",
    "    print(cm)\n",
    "    res = plt.imshow(cm, interpolation='nearest', cmap=cmap) # 接受归一化后的混淆矩阵，并将返回值作为度量的比例尺\n",
    "    plt.colorbar(res)  \n",
    "    thresh = cm.max() / 2.\n",
    "    print thresh\n",
    "    for i, j in itertools.product(range(cm.shape[0]), range(cm.shape[1])):\n",
    "        plt.text(j, i, '',\n",
    "                 horizontalalignment=\"center\",\n",
    "                 color=\"white\" if cm[i, j] > thresh else \"black\")\n",
    "\n",
    "\n",
    "    plt.tight_layout() #紧凑显示图片，使图片居中显示\n",
    "    plt.ylabel('True label')\n",
    "    plt.xlabel('Predicted label')\n",
    "\n",
    "y_true = [2, 0, 2, 2, 0, 1]\n",
    "y_pred = [0, 0, 2, 2, 0, 2]\n",
    "confusion_matrix(y_true, y_pred)\n",
    "cnf_matrix = confusion_matrix(y_true, y_pred)\n",
    "\n",
    "confusion_matrix = np.loadtxt('/home/magic/END/Experiment_analysis/CAE/CAE_finetune_sample/conf_matrix_cae_alex.txt')\n",
    "\n",
    "classesname = np.arange(len(np.zeros(103)))\n",
    "\n",
    "plot_confusion_matrix(confusion_matrix, normalize=True, classes = classesname, title='Confusion matrix' )\n",
    "plt.show()\n"
   ]
  },
  {
   "cell_type": "markdown",
   "metadata": {
    "collapsed": true
   },
   "source": [
    " ![image](http://ethereon.github.io/netscope/#/editor)"
   ]
  },
  {
   "cell_type": "code",
   "execution_count": null,
   "metadata": {
    "collapsed": true
   },
   "outputs": [],
   "source": []
  }
 ],
 "metadata": {
  "description": "Run a pretrained model as a detector in Python.",
  "example_name": "R-CNN detection",
  "include_in_docs": true,
  "kernelspec": {
   "display_name": "Python 2",
   "language": "python",
   "name": "python2"
  },
  "language_info": {
   "codemirror_mode": {
    "name": "ipython",
    "version": 2
   },
   "file_extension": ".py",
   "mimetype": "text/x-python",
   "name": "python",
   "nbconvert_exporter": "python",
   "pygments_lexer": "ipython2",
   "version": "2.7.6"
  },
  "priority": 6
 },
 "nbformat": 4,
 "nbformat_minor": 0
}
